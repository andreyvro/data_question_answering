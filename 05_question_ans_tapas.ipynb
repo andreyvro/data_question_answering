{
 "cells": [
  {
   "cell_type": "code",
   "execution_count": null,
   "metadata": {},
   "outputs": [],
   "source": [
    "from transformers import pipeline\n",
    "import pandas as pd"
   ]
  },
  {
   "cell_type": "markdown",
   "metadata": {},
   "source": [
    "### Dados"
   ]
  },
  {
   "cell_type": "raw",
   "metadata": {},
   "source": [
    "df = pd.read_excel('dados/revendas_lpc_2023-02-05_2023-02-11.xlsx', skiprows=9)\n",
    "table_cols = ['CNPJ', 'COMPANY_NAME', 'FANTASY_NAME', 'ADDRESS', 'NUMBER', 'COMPLEMENT', 'NEIGHBORHOOD', 'ZIP_CODE', \n",
    "              'MUNICIPALITY', 'STATE', 'FLAG', 'PRODUCT', ' UNIT_OF_MEASUREMENT', 'RETAIL_PRICE', 'DATE_OF_COLLECTION']\n",
    "df.columns = table_cols\n",
    "df.to_csv('dados/revendas_lpc_2023-02-05_2023-02-11.csv', index=False)\n"
   ]
  },
  {
   "cell_type": "code",
   "execution_count": 2,
   "metadata": {},
   "outputs": [],
   "source": [
    "df = pd.read_csv('dados/revendas_lpc_2023-02-05_2023-02-11.csv')\n",
    "df = df.astype(str)\n",
    "df = df[:200]"
   ]
  },
  {
   "cell_type": "code",
   "execution_count": 3,
   "metadata": {},
   "outputs": [
    {
     "data": {
      "text/html": [
       "<div>\n",
       "<style scoped>\n",
       "    .dataframe tbody tr th:only-of-type {\n",
       "        vertical-align: middle;\n",
       "    }\n",
       "\n",
       "    .dataframe tbody tr th {\n",
       "        vertical-align: top;\n",
       "    }\n",
       "\n",
       "    .dataframe thead th {\n",
       "        text-align: right;\n",
       "    }\n",
       "</style>\n",
       "<table border=\"1\" class=\"dataframe\">\n",
       "  <thead>\n",
       "    <tr style=\"text-align: right;\">\n",
       "      <th></th>\n",
       "      <th>CNPJ</th>\n",
       "      <th>COMPANY_NAME</th>\n",
       "      <th>FANTASY_NAME</th>\n",
       "      <th>ADDRESS</th>\n",
       "      <th>NUMBER</th>\n",
       "      <th>COMPLEMENT</th>\n",
       "      <th>NEIGHBORHOOD</th>\n",
       "      <th>ZIP_CODE</th>\n",
       "      <th>MUNICIPALITY</th>\n",
       "      <th>STATE</th>\n",
       "      <th>FLAG</th>\n",
       "      <th>PRODUCT</th>\n",
       "      <th>UNIT_OF_MEASUREMENT</th>\n",
       "      <th>RETAIL_PRICE</th>\n",
       "      <th>DATE_OF_COLLECTION</th>\n",
       "    </tr>\n",
       "  </thead>\n",
       "  <tbody>\n",
       "    <tr>\n",
       "      <th>0</th>\n",
       "      <td>61602199002409</td>\n",
       "      <td>COMPANHIA ULTRAGAZ S A</td>\n",
       "      <td>ULTRAGAZ</td>\n",
       "      <td>RUA AMARO CASTRO LIMA</td>\n",
       "      <td>1852</td>\n",
       "      <td>nan</td>\n",
       "      <td>VILA NOVA CAMPO GRANDE</td>\n",
       "      <td>79106361</td>\n",
       "      <td>CAMPO GRANDE</td>\n",
       "      <td>MATO GROSSO DO SUL</td>\n",
       "      <td>ULTRAGAZ</td>\n",
       "      <td>GLP</td>\n",
       "      <td>R$ / 13 kg</td>\n",
       "      <td>110.0</td>\n",
       "      <td>2023-02-07</td>\n",
       "    </tr>\n",
       "    <tr>\n",
       "      <th>1</th>\n",
       "      <td>61602199006587</td>\n",
       "      <td>COMPANHIA ULTRAGAZ S A</td>\n",
       "      <td>ULTRAGAZ</td>\n",
       "      <td>AVENIDA CAIRU</td>\n",
       "      <td>989</td>\n",
       "      <td>nan</td>\n",
       "      <td>NAVEGANTES</td>\n",
       "      <td>90230031</td>\n",
       "      <td>PORTO ALEGRE</td>\n",
       "      <td>RIO GRANDE DO SUL</td>\n",
       "      <td>ULTRAGAZ</td>\n",
       "      <td>GLP</td>\n",
       "      <td>R$ / 13 kg</td>\n",
       "      <td>105.0</td>\n",
       "      <td>2023-02-07</td>\n",
       "    </tr>\n",
       "    <tr>\n",
       "      <th>2</th>\n",
       "      <td>3188000121</td>\n",
       "      <td>COMPETRO COMERCIO E DISTRIBUICAO DE DERIVADOS ...</td>\n",
       "      <td>COMPETRO</td>\n",
       "      <td>RUA HUMBERTO DE CAMPOS</td>\n",
       "      <td>306</td>\n",
       "      <td>nan</td>\n",
       "      <td>JARDIM ZULMIRA</td>\n",
       "      <td>18061000</td>\n",
       "      <td>SOROCABA</td>\n",
       "      <td>SAO PAULO</td>\n",
       "      <td>BRANCA</td>\n",
       "      <td>ETANOL</td>\n",
       "      <td>R$ / litro</td>\n",
       "      <td>3.25</td>\n",
       "      <td>2023-02-06</td>\n",
       "    </tr>\n",
       "  </tbody>\n",
       "</table>\n",
       "</div>"
      ],
      "text/plain": [
       "             CNPJ                                       COMPANY_NAME  \\\n",
       "0  61602199002409                             COMPANHIA ULTRAGAZ S A   \n",
       "1  61602199006587                             COMPANHIA ULTRAGAZ S A   \n",
       "2      3188000121  COMPETRO COMERCIO E DISTRIBUICAO DE DERIVADOS ...   \n",
       "\n",
       "  FANTASY_NAME                 ADDRESS NUMBER COMPLEMENT  \\\n",
       "0     ULTRAGAZ   RUA AMARO CASTRO LIMA   1852        nan   \n",
       "1     ULTRAGAZ           AVENIDA CAIRU    989        nan   \n",
       "2     COMPETRO  RUA HUMBERTO DE CAMPOS    306        nan   \n",
       "\n",
       "             NEIGHBORHOOD  ZIP_CODE  MUNICIPALITY               STATE  \\\n",
       "0  VILA NOVA CAMPO GRANDE  79106361  CAMPO GRANDE  MATO GROSSO DO SUL   \n",
       "1              NAVEGANTES  90230031  PORTO ALEGRE   RIO GRANDE DO SUL   \n",
       "2          JARDIM ZULMIRA  18061000      SOROCABA           SAO PAULO   \n",
       "\n",
       "       FLAG PRODUCT  UNIT_OF_MEASUREMENT RETAIL_PRICE DATE_OF_COLLECTION  \n",
       "0  ULTRAGAZ     GLP           R$ / 13 kg        110.0         2023-02-07  \n",
       "1  ULTRAGAZ     GLP           R$ / 13 kg        105.0         2023-02-07  \n",
       "2    BRANCA  ETANOL           R$ / litro         3.25         2023-02-06  "
      ]
     },
     "execution_count": 3,
     "metadata": {},
     "output_type": "execute_result"
    }
   ],
   "source": [
    "df.head(3)"
   ]
  },
  {
   "cell_type": "markdown",
   "metadata": {},
   "source": [
    "### Modelo"
   ]
  },
  {
   "cell_type": "code",
   "execution_count": 4,
   "metadata": {},
   "outputs": [],
   "source": [
    "tqa = pipeline(task='table-question-answering', model='google/tapas-large-finetuned-wtq')"
   ]
  },
  {
   "cell_type": "code",
   "execution_count": 8,
   "metadata": {},
   "outputs": [],
   "source": [
    "questions = ['What the fantasy name of cnpj 61602199002409?',       # Resposta = ULTRAGAZ\n",
    "             'what the municipality of fantasy name competro?',     # Resposta = SOROCABA\n",
    "             'What is the average retail price for ultragaz?',      # Resposta = Média(110.0, 105.0)\n",
    "             'what are the products of the company competro']       # Resposta = [ETANOL, DIESEL S10, GASOLINA COMUM]\n",
    "answers = tqa(table=df, query=questions)"
   ]
  },
  {
   "cell_type": "code",
   "execution_count": 9,
   "metadata": {},
   "outputs": [
    {
     "name": "stdout",
     "output_type": "stream",
     "text": [
      "What the fantasy name of cnpj 61602199002409? ['ULTRAGAZ'] NONE\n",
      "what the municipality of fantasy name competro? ['SOROCABA'] NONE\n",
      "What is the average retail price for ultragaz? ['110.0', '105.0'] AVERAGE\n",
      "what are the products of the company competro ['ETANOL', 'DIESEL S10', 'GASOLINA COMUM'] NONE\n"
     ]
    }
   ],
   "source": [
    "for i, quest in enumerate(questions):\n",
    "    print(quest, answers[i]['cells'], answers[i]['aggregator'])"
   ]
  },
  {
   "cell_type": "markdown",
   "metadata": {},
   "source": [
    "### Conclusão"
   ]
  },
  {
   "cell_type": "raw",
   "metadata": {},
   "source": [
    "Em bases grandes o tempo de resposta é alto, necessitando de um bom poder de processamento"
   ]
  }
 ],
 "metadata": {
  "kernelspec": {
   "display_name": "base",
   "language": "python",
   "name": "python3"
  },
  "language_info": {
   "codemirror_mode": {
    "name": "ipython",
    "version": 3
   },
   "file_extension": ".py",
   "mimetype": "text/x-python",
   "name": "python",
   "nbconvert_exporter": "python",
   "pygments_lexer": "ipython3",
   "version": "3.9.12"
  },
  "orig_nbformat": 4
 },
 "nbformat": 4,
 "nbformat_minor": 2
}
