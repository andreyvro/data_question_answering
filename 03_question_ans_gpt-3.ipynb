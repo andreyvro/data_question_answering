{
 "cells": [
  {
   "cell_type": "code",
   "execution_count": 1,
   "metadata": {},
   "outputs": [],
   "source": [
    "from transformers import pipeline"
   ]
  },
  {
   "cell_type": "code",
   "execution_count": 2,
   "metadata": {},
   "outputs": [],
   "source": [
    "model = 'EleutherAI/gpt-neo-2.7B'   # GPT-3\n",
    "text_generator = pipeline('text-generation', model=model)"
   ]
  },
  {
   "cell_type": "code",
   "execution_count": null,
   "metadata": {},
   "outputs": [],
   "source": [
    "# Consulta\n",
    "question = 'Quantas pessoas possui mais de 18 anos'\n",
    "text = 'dada uma tabela de nome \"X\" gere uma consulta SQL para responder aquestão: ' + question\n",
    "generated_text = text_generator(text, max_length=1024, do_sample=True, temperature=0.7)\n",
    "sql_query = generated_text[0]['generated_text'].strip()"
   ]
  },
  {
   "cell_type": "code",
   "execution_count": null,
   "metadata": {},
   "outputs": [
    {
     "data": {
      "text/plain": [
       "\"gerar uma consulta SQL para selecionar todos os registros da tabela alunos onde a idade é maior que 18 e o sexo é feminino.\\nNeste código, tenho um campo idade onde eu gostaria de selecionar todos os alunos onde a idade é maior que 18 e o sexo é feminino.\\nComo eu posso fazer isso?\\n\\nA:\\n\\nVocê pode utilizar o comando left_join da consulta SQL, e deixar os campos com o mesmo nome, exemplo:\\nselect *\\nfrom alunos \\nleft join (\\n  select *\\n  from alunos\\n  where idade > 18 and sexo = 'feminino'\\n  ) x on alunos.idade = x.idade;\""
      ]
     },
     "execution_count": 4,
     "metadata": {},
     "output_type": "execute_result"
    }
   ],
   "source": [
    "sql_query"
   ]
  },
  {
   "cell_type": "code",
   "execution_count": null,
   "metadata": {},
   "outputs": [],
   "source": []
  }
 ],
 "metadata": {
  "kernelspec": {
   "display_name": "Python 3",
   "language": "python",
   "name": "python3"
  },
  "language_info": {
   "codemirror_mode": {
    "name": "ipython",
    "version": 3
   },
   "file_extension": ".py",
   "mimetype": "text/x-python",
   "name": "python",
   "nbconvert_exporter": "python",
   "pygments_lexer": "ipython3",
   "version": "3.9.12"
  },
  "orig_nbformat": 4
 },
 "nbformat": 4,
 "nbformat_minor": 2
}
