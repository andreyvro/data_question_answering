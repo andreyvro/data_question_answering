{
 "cells": [
  {
   "attachments": {},
   "cell_type": "markdown",
   "metadata": {},
   "source": [
    "### Busca textual em bases de dados\n",
    "#### text-to-sql"
   ]
  },
  {
   "cell_type": "code",
   "execution_count": 1,
   "metadata": {},
   "outputs": [],
   "source": [
    "from typing import List\n",
    "from transformers import AutoTokenizer, AutoModelForSeq2SeqLM\n",
    "import pandas as pd\n",
    "import sqlite3"
   ]
  },
  {
   "cell_type": "markdown",
   "metadata": {},
   "source": [
    "### Dados"
   ]
  },
  {
   "cell_type": "code",
   "execution_count": 2,
   "metadata": {},
   "outputs": [],
   "source": [
    "df = pd.read_excel('dados/revendas_lpc_2023-02-05_2023-02-11.xlsx', skiprows=9)"
   ]
  },
  {
   "cell_type": "code",
   "execution_count": 3,
   "metadata": {},
   "outputs": [
    {
     "name": "stdout",
     "output_type": "stream",
     "text": [
      "<class 'pandas.core.frame.DataFrame'>\n",
      "RangeIndex: 19302 entries, 0 to 19301\n",
      "Data columns (total 15 columns):\n",
      " #   Column             Non-Null Count  Dtype         \n",
      "---  ------             --------------  -----         \n",
      " 0   CNPJ               19302 non-null  int64         \n",
      " 1   RAZÃO              19302 non-null  object        \n",
      " 2   FANTASIA           8184 non-null   object        \n",
      " 3   ENDEREÇO           19302 non-null  object        \n",
      " 4   NÚMERO             19298 non-null  object        \n",
      " 5   COMPLEMENTO        4607 non-null   object        \n",
      " 6   BAIRRO             19265 non-null  object        \n",
      " 7   CEP                19302 non-null  int64         \n",
      " 8   MUNICÍPIO          19302 non-null  object        \n",
      " 9   ESTADO             19302 non-null  object        \n",
      " 10  BANDEIRA           19302 non-null  object        \n",
      " 11  PRODUTO            19302 non-null  object        \n",
      " 12  UNIDADE DE MEDIDA  19302 non-null  object        \n",
      " 13  PREÇO DE REVENDA   19302 non-null  float64       \n",
      " 14  DATA DA COLETA     19302 non-null  datetime64[ns]\n",
      "dtypes: datetime64[ns](1), float64(1), int64(2), object(11)\n",
      "memory usage: 2.2+ MB\n"
     ]
    }
   ],
   "source": [
    "df.info()"
   ]
  },
  {
   "cell_type": "code",
   "execution_count": 4,
   "metadata": {},
   "outputs": [
    {
     "data": {
      "text/html": [
       "<div>\n",
       "<style scoped>\n",
       "    .dataframe tbody tr th:only-of-type {\n",
       "        vertical-align: middle;\n",
       "    }\n",
       "\n",
       "    .dataframe tbody tr th {\n",
       "        vertical-align: top;\n",
       "    }\n",
       "\n",
       "    .dataframe thead th {\n",
       "        text-align: right;\n",
       "    }\n",
       "</style>\n",
       "<table border=\"1\" class=\"dataframe\">\n",
       "  <thead>\n",
       "    <tr style=\"text-align: right;\">\n",
       "      <th></th>\n",
       "      <th>CNPJ</th>\n",
       "      <th>RAZÃO</th>\n",
       "      <th>FANTASIA</th>\n",
       "      <th>ENDEREÇO</th>\n",
       "      <th>NÚMERO</th>\n",
       "      <th>COMPLEMENTO</th>\n",
       "      <th>BAIRRO</th>\n",
       "      <th>CEP</th>\n",
       "      <th>MUNICÍPIO</th>\n",
       "      <th>ESTADO</th>\n",
       "      <th>BANDEIRA</th>\n",
       "      <th>PRODUTO</th>\n",
       "      <th>UNIDADE DE MEDIDA</th>\n",
       "      <th>PREÇO DE REVENDA</th>\n",
       "      <th>DATA DA COLETA</th>\n",
       "    </tr>\n",
       "  </thead>\n",
       "  <tbody>\n",
       "    <tr>\n",
       "      <th>0</th>\n",
       "      <td>61602199002409</td>\n",
       "      <td>COMPANHIA ULTRAGAZ S A</td>\n",
       "      <td>ULTRAGAZ</td>\n",
       "      <td>RUA AMARO CASTRO LIMA</td>\n",
       "      <td>1852</td>\n",
       "      <td>NaN</td>\n",
       "      <td>VILA NOVA CAMPO GRANDE</td>\n",
       "      <td>79106361</td>\n",
       "      <td>CAMPO GRANDE</td>\n",
       "      <td>MATO GROSSO DO SUL</td>\n",
       "      <td>ULTRAGAZ</td>\n",
       "      <td>GLP</td>\n",
       "      <td>R$ / 13 kg</td>\n",
       "      <td>110.00</td>\n",
       "      <td>2023-02-07</td>\n",
       "    </tr>\n",
       "    <tr>\n",
       "      <th>1</th>\n",
       "      <td>61602199006587</td>\n",
       "      <td>COMPANHIA ULTRAGAZ S A</td>\n",
       "      <td>ULTRAGAZ</td>\n",
       "      <td>AVENIDA CAIRU</td>\n",
       "      <td>989</td>\n",
       "      <td>NaN</td>\n",
       "      <td>NAVEGANTES</td>\n",
       "      <td>90230031</td>\n",
       "      <td>PORTO ALEGRE</td>\n",
       "      <td>RIO GRANDE DO SUL</td>\n",
       "      <td>ULTRAGAZ</td>\n",
       "      <td>GLP</td>\n",
       "      <td>R$ / 13 kg</td>\n",
       "      <td>105.00</td>\n",
       "      <td>2023-02-07</td>\n",
       "    </tr>\n",
       "    <tr>\n",
       "      <th>2</th>\n",
       "      <td>3188000121</td>\n",
       "      <td>COMPETRO COMERCIO E DISTRIBUICAO DE DERIVADOS ...</td>\n",
       "      <td>COMPETRO</td>\n",
       "      <td>RUA HUMBERTO DE CAMPOS</td>\n",
       "      <td>306</td>\n",
       "      <td>NaN</td>\n",
       "      <td>JARDIM ZULMIRA</td>\n",
       "      <td>18061000</td>\n",
       "      <td>SOROCABA</td>\n",
       "      <td>SAO PAULO</td>\n",
       "      <td>BRANCA</td>\n",
       "      <td>ETANOL</td>\n",
       "      <td>R$ / litro</td>\n",
       "      <td>3.25</td>\n",
       "      <td>2023-02-06</td>\n",
       "    </tr>\n",
       "  </tbody>\n",
       "</table>\n",
       "</div>"
      ],
      "text/plain": [
       "             CNPJ                                              RAZÃO  \\\n",
       "0  61602199002409                             COMPANHIA ULTRAGAZ S A   \n",
       "1  61602199006587                             COMPANHIA ULTRAGAZ S A   \n",
       "2      3188000121  COMPETRO COMERCIO E DISTRIBUICAO DE DERIVADOS ...   \n",
       "\n",
       "   FANTASIA                ENDEREÇO NÚMERO COMPLEMENTO  \\\n",
       "0  ULTRAGAZ   RUA AMARO CASTRO LIMA   1852         NaN   \n",
       "1  ULTRAGAZ           AVENIDA CAIRU    989         NaN   \n",
       "2  COMPETRO  RUA HUMBERTO DE CAMPOS    306         NaN   \n",
       "\n",
       "                   BAIRRO       CEP     MUNICÍPIO              ESTADO  \\\n",
       "0  VILA NOVA CAMPO GRANDE  79106361  CAMPO GRANDE  MATO GROSSO DO SUL   \n",
       "1              NAVEGANTES  90230031  PORTO ALEGRE   RIO GRANDE DO SUL   \n",
       "2          JARDIM ZULMIRA  18061000      SOROCABA           SAO PAULO   \n",
       "\n",
       "   BANDEIRA PRODUTO UNIDADE DE MEDIDA  PREÇO DE REVENDA DATA DA COLETA  \n",
       "0  ULTRAGAZ     GLP        R$ / 13 kg            110.00     2023-02-07  \n",
       "1  ULTRAGAZ     GLP        R$ / 13 kg            105.00     2023-02-07  \n",
       "2    BRANCA  ETANOL        R$ / litro              3.25     2023-02-06  "
      ]
     },
     "execution_count": 4,
     "metadata": {},
     "output_type": "execute_result"
    }
   ],
   "source": [
    "df.head(3)"
   ]
  },
  {
   "cell_type": "code",
   "execution_count": 5,
   "metadata": {},
   "outputs": [
    {
     "data": {
      "text/plain": [
       "(19302, 15)"
      ]
     },
     "execution_count": 5,
     "metadata": {},
     "output_type": "execute_result"
    }
   ],
   "source": [
    "df.shape"
   ]
  },
  {
   "cell_type": "code",
   "execution_count": 6,
   "metadata": {},
   "outputs": [],
   "source": [
    "table_cols = ['CNPJ', 'COMPANY_NAME', 'FANTASY_NAME', 'ADDRESS', 'NUMBER', 'COMPLEMENT', 'NEIGHBORHOOD', 'ZIP_CODE', \n",
    "              'MUNICIPALITY', 'STATE', 'FLAG', 'PRODUCT', ' UNIT_OF_MEASUREMENT', 'RETAIL_PRICE', 'DATE_OF_COLLECTION']\n",
    "df.columns = table_cols"
   ]
  },
  {
   "cell_type": "code",
   "execution_count": 7,
   "metadata": {},
   "outputs": [
    {
     "data": {
      "text/plain": [
       "19302"
      ]
     },
     "execution_count": 7,
     "metadata": {},
     "output_type": "execute_result"
    }
   ],
   "source": [
    "table_name = 'revendas_lpc'\n",
    "conn = sqlite3.connect(':memory:')\n",
    "df.to_sql(name=table_name, con=conn)"
   ]
  },
  {
   "cell_type": "code",
   "execution_count": 8,
   "metadata": {},
   "outputs": [
    {
     "name": "stdout",
     "output_type": "stream",
     "text": [
      "(19302,)\n"
     ]
    }
   ],
   "source": [
    "cursor = conn.cursor()\n",
    "cursor.execute('SELECT COUNT(*) AS qtd FROM ' + table_name)\n",
    "ret = cursor.fetchall()\n",
    "print(ret[0])"
   ]
  },
  {
   "cell_type": "markdown",
   "metadata": {},
   "source": [
    "### Modelo"
   ]
  },
  {
   "cell_type": "code",
   "execution_count": 9,
   "metadata": {},
   "outputs": [],
   "source": [
    "# https://huggingface.co/juierror/flan-t5-text2sql-with-schema\n",
    "tokenizer = AutoTokenizer.from_pretrained('juierror/text-to-sql-with-table-schema')\n",
    "model = AutoModelForSeq2SeqLM.from_pretrained('juierror/text-to-sql-with-table-schema')"
   ]
  },
  {
   "cell_type": "code",
   "execution_count": 28,
   "metadata": {},
   "outputs": [],
   "source": [
    "def prepare_input(question: str, table: List[str]):\n",
    "    table_prefix = 'table:'\n",
    "    question_prefix = 'question:'\n",
    "    join_table = ','.join(table)\n",
    "    inputs = f'{question_prefix} {question} {table_prefix} {join_table}'\n",
    "    input_ids = tokenizer(inputs, max_length=700, return_tensors='pt').input_ids\n",
    "    return input_ids\n",
    "\n",
    "def inference(question: str, table: List[str]) -> str:\n",
    "    input_data = prepare_input(question=question, table=table)\n",
    "    input_data = input_data.to(model.device)\n",
    "    outputs = model.generate(inputs=input_data, num_beams=10, top_k=10, max_length=700)\n",
    "    result = tokenizer.decode(token_ids=outputs[0], skip_special_tokens=True)\n",
    "    result = result.replace('table', table_name)\n",
    "    return result"
   ]
  },
  {
   "attachments": {},
   "cell_type": "markdown",
   "metadata": {},
   "source": [
    "#### Questões"
   ]
  },
  {
   "cell_type": "code",
   "execution_count": 44,
   "metadata": {},
   "outputs": [],
   "source": [
    "def get_response(question, exec_query=False):\n",
    "    resp_sql = inference(question=question, table=table_cols)\n",
    "    print('SQL:', resp_sql)\n",
    "    \n",
    "    if exec_query:\n",
    "        cursor.execute(resp_sql)\n",
    "        ret = cursor.fetchall()\n",
    "        print('Resposta:', ret)"
   ]
  },
  {
   "cell_type": "code",
   "execution_count": 45,
   "metadata": {},
   "outputs": [
    {
     "name": "stdout",
     "output_type": "stream",
     "text": [
      "SQL: SELECT ADDRESS FROM revendas_lpc WHERE CNPJ = 61602199002409\n",
      "Resposta: [('RUA AMARO CASTRO LIMA',)]\n"
     ]
    }
   ],
   "source": [
    "get_response(\"return the 'ADDRESS' of company whose CNPJ is 61602199002409\", True)"
   ]
  },
  {
   "cell_type": "code",
   "execution_count": 46,
   "metadata": {},
   "outputs": [
    {
     "name": "stdout",
     "output_type": "stream",
     "text": [
      "SQL: SELECT RETAIL_PRICE FROM revendas_lpc WHERE CNPJ = 61602199002409\n",
      "Resposta: [(110.0,)]\n"
     ]
    }
   ],
   "source": [
    "get_response(\"what is the RETAIL PRICE of CNPJ 61602199002409\", True)"
   ]
  },
  {
   "cell_type": "code",
   "execution_count": 49,
   "metadata": {},
   "outputs": [
    {
     "name": "stdout",
     "output_type": "stream",
     "text": [
      "SQL: SELECT AVG RETAIL_PRICE FROM revendas_lpc WHERE FLAG = ultragaz\n"
     ]
    }
   ],
   "source": [
    "get_response(\"return the average RETAIL PRICE when the FLAG is ULTRAGAZ\")"
   ]
  },
  {
   "cell_type": "code",
   "execution_count": 51,
   "metadata": {},
   "outputs": [
    {
     "name": "stdout",
     "output_type": "stream",
     "text": [
      "Resposta: [(109.75725047080972,)]\n"
     ]
    }
   ],
   "source": [
    "cursor.execute(\"SELECT AVG(RETAIL_PRICE) FROM revendas_lpc WHERE FLAG = 'ULTRAGAZ'\")\n",
    "ret = cursor.fetchall()\n",
    "print('Resposta:', ret)"
   ]
  },
  {
   "cell_type": "code",
   "execution_count": 52,
   "metadata": {},
   "outputs": [],
   "source": [
    "conn.close()"
   ]
  },
  {
   "cell_type": "markdown",
   "metadata": {},
   "source": [
    "### Conclusão"
   ]
  },
  {
   "cell_type": "raw",
   "metadata": {},
   "source": [
    "Quanto a esse experimento:\n",
    "Quando a busca é realizada em uma coluna textual, a query não apresenta aspas simples, gerando erro.\n",
    "Funções como AVG estão vindo sem os parêntesis.\n",
    "\n",
    "Para um resultado melhor será necessário um modelo seq-2-seq mais robusto, \n",
    "treinado com bases como a WikiSQL traduzida para português \n",
    "enriquecida com o schema (nome e tipo das variáveis) da tabela.\n",
    "\n",
    "Também pode ser utilizado um modelo para question answering em dados tabulares como o modelo TAPAS."
   ]
  },
  {
   "cell_type": "code",
   "execution_count": null,
   "metadata": {},
   "outputs": [],
   "source": []
  }
 ],
 "metadata": {
  "kernelspec": {
   "display_name": "base",
   "language": "python",
   "name": "python3"
  },
  "language_info": {
   "codemirror_mode": {
    "name": "ipython",
    "version": 3
   },
   "file_extension": ".py",
   "mimetype": "text/x-python",
   "name": "python",
   "nbconvert_exporter": "python",
   "pygments_lexer": "ipython3",
   "version": "3.9.12"
  },
  "orig_nbformat": 4
 },
 "nbformat": 4,
 "nbformat_minor": 2
}
